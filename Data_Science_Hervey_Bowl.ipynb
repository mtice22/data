{
  "nbformat": 4,
  "nbformat_minor": 0,
  "metadata": {
    "colab": {
      "name": "Data Science Hervey Bowl.ipynb",
      "provenance": [],
      "collapsed_sections": [],
      "machine_shape": "hm",
      "include_colab_link": true
    },
    "kernelspec": {
      "name": "python3",
      "display_name": "Python 3"
    }
  },
  "cells": [
    {
      "cell_type": "markdown",
      "metadata": {
        "id": "view-in-github",
        "colab_type": "text"
      },
      "source": [
        "<a href=\"https://colab.research.google.com/github/mtice22/data/blob/master/Data_Science_Hervey_Bowl.ipynb\" target=\"_parent\"><img src=\"https://colab.research.google.com/assets/colab-badge.svg\" alt=\"Open In Colab\"/></a>"
      ]
    },
    {
      "cell_type": "code",
      "metadata": {
        "id": "QTwLX5VuoqpR",
        "colab_type": "code",
        "colab": {}
      },
      "source": [
        "import pandas as pd\n",
        "import numpy as np"
      ],
      "execution_count": 0,
      "outputs": []
    },
    {
      "cell_type": "code",
      "metadata": {
        "id": "C-P8-jgVCaXz",
        "colab_type": "code",
        "outputId": "6d2b3228-d6ac-48f5-b99b-382c928076e1",
        "colab": {
          "base_uri": "https://localhost:8080/",
          "height": 55
        }
      },
      "source": [
        "from google.colab import drive\n",
        "drive.mount('/content/drive')"
      ],
      "execution_count": 44,
      "outputs": [
        {
          "output_type": "stream",
          "text": [
            "Drive already mounted at /content/drive; to attempt to forcibly remount, call drive.mount(\"/content/drive\", force_remount=True).\n"
          ],
          "name": "stdout"
        }
      ]
    },
    {
      "cell_type": "code",
      "metadata": {
        "id": "BrE4hlfwDbbx",
        "colab_type": "code",
        "colab": {}
      },
      "source": [
        "!pip install -U -q PyDrive\n",
        "\n",
        "from pydrive.auth import GoogleAuth\n",
        "from pydrive.drive import GoogleDrive\n",
        "from google.colab import auth\n",
        "from oauth2client.client import GoogleCredentials\n",
        "\n",
        "# 1. Authenticate and create the PyDrive client.\n",
        "auth.authenticate_user()\n",
        "gauth = GoogleAuth()\n",
        "gauth.credentials = GoogleCredentials.get_application_default()\n",
        "drive = GoogleDrive(gauth)\n",
        "\n",
        "# 2. Load a file by ID and create local file.\n",
        "downloaded = drive.CreateFile({'id':'1m0f1WMjCFV4OFxgE-MlvBkFDA8Lx0QHS'}) # replace fileid with Id of file you want to access\n",
        "downloaded.GetContentFile('export.csv') # now you can use export.csv "
      ],
      "execution_count": 0,
      "outputs": []
    },
    {
      "cell_type": "code",
      "metadata": {
        "id": "twii6Z5GOKBm",
        "colab_type": "code",
        "colab": {}
      },
      "source": [
        "data= pd.read_csv('export.csv')"
      ],
      "execution_count": 0,
      "outputs": []
    },
    {
      "cell_type": "code",
      "metadata": {
        "id": "q_4iAbOkOeB1",
        "colab_type": "code",
        "outputId": "5704df8a-0cd2-4d17-df0f-98bc84e444e7",
        "colab": {
          "base_uri": "https://localhost:8080/",
          "height": 400
        }
      },
      "source": [
        "data.head()"
      ],
      "execution_count": 47,
      "outputs": [
        {
          "output_type": "execute_result",
          "data": {
            "text/html": [
              "<div>\n",
              "<style scoped>\n",
              "    .dataframe tbody tr th:only-of-type {\n",
              "        vertical-align: middle;\n",
              "    }\n",
              "\n",
              "    .dataframe tbody tr th {\n",
              "        vertical-align: top;\n",
              "    }\n",
              "\n",
              "    .dataframe thead th {\n",
              "        text-align: right;\n",
              "    }\n",
              "</style>\n",
              "<table border=\"1\" class=\"dataframe\">\n",
              "  <thead>\n",
              "    <tr style=\"text-align: right;\">\n",
              "      <th></th>\n",
              "      <th>event_id</th>\n",
              "      <th>game_session</th>\n",
              "      <th>timestamp</th>\n",
              "      <th>event_data</th>\n",
              "      <th>installation_id</th>\n",
              "      <th>event_count</th>\n",
              "      <th>event_code</th>\n",
              "      <th>game_time</th>\n",
              "      <th>title</th>\n",
              "      <th>type</th>\n",
              "      <th>world</th>\n",
              "    </tr>\n",
              "  </thead>\n",
              "  <tbody>\n",
              "    <tr>\n",
              "      <th>0</th>\n",
              "      <td>27253bdc</td>\n",
              "      <td>45bb1e1b6b50c07b</td>\n",
              "      <td>2019-09-06T17:53:46.937Z</td>\n",
              "      <td>{\"event_code\": 2000, \"event_count\": 1}</td>\n",
              "      <td>0001e90f</td>\n",
              "      <td>1</td>\n",
              "      <td>2000</td>\n",
              "      <td>0</td>\n",
              "      <td>Welcome to Lost Lagoon!</td>\n",
              "      <td>Clip</td>\n",
              "      <td>NONE</td>\n",
              "    </tr>\n",
              "    <tr>\n",
              "      <th>1</th>\n",
              "      <td>27253bdc</td>\n",
              "      <td>17eeb7f223665f53</td>\n",
              "      <td>2019-09-06T17:54:17.519Z</td>\n",
              "      <td>{\"event_code\": 2000, \"event_count\": 1}</td>\n",
              "      <td>0001e90f</td>\n",
              "      <td>1</td>\n",
              "      <td>2000</td>\n",
              "      <td>0</td>\n",
              "      <td>Magma Peak - Level 1</td>\n",
              "      <td>Clip</td>\n",
              "      <td>MAGMAPEAK</td>\n",
              "    </tr>\n",
              "    <tr>\n",
              "      <th>2</th>\n",
              "      <td>77261ab5</td>\n",
              "      <td>0848ef14a8dc6892</td>\n",
              "      <td>2019-09-06T17:54:56.302Z</td>\n",
              "      <td>{\"version\":\"1.0\",\"event_count\":1,\"game_time\":0...</td>\n",
              "      <td>0001e90f</td>\n",
              "      <td>1</td>\n",
              "      <td>2000</td>\n",
              "      <td>0</td>\n",
              "      <td>Sandcastle Builder (Activity)</td>\n",
              "      <td>Activity</td>\n",
              "      <td>MAGMAPEAK</td>\n",
              "    </tr>\n",
              "    <tr>\n",
              "      <th>3</th>\n",
              "      <td>b2dba42b</td>\n",
              "      <td>0848ef14a8dc6892</td>\n",
              "      <td>2019-09-06T17:54:56.387Z</td>\n",
              "      <td>{\"description\":\"Let's build a sandcastle! Firs...</td>\n",
              "      <td>0001e90f</td>\n",
              "      <td>2</td>\n",
              "      <td>3010</td>\n",
              "      <td>53</td>\n",
              "      <td>Sandcastle Builder (Activity)</td>\n",
              "      <td>Activity</td>\n",
              "      <td>MAGMAPEAK</td>\n",
              "    </tr>\n",
              "    <tr>\n",
              "      <th>4</th>\n",
              "      <td>1bb5fbdb</td>\n",
              "      <td>0848ef14a8dc6892</td>\n",
              "      <td>2019-09-06T17:55:03.253Z</td>\n",
              "      <td>{\"description\":\"Let's build a sandcastle! Firs...</td>\n",
              "      <td>0001e90f</td>\n",
              "      <td>3</td>\n",
              "      <td>3110</td>\n",
              "      <td>6972</td>\n",
              "      <td>Sandcastle Builder (Activity)</td>\n",
              "      <td>Activity</td>\n",
              "      <td>MAGMAPEAK</td>\n",
              "    </tr>\n",
              "  </tbody>\n",
              "</table>\n",
              "</div>"
            ],
            "text/plain": [
              "   event_id      game_session  ...      type      world\n",
              "0  27253bdc  45bb1e1b6b50c07b  ...      Clip       NONE\n",
              "1  27253bdc  17eeb7f223665f53  ...      Clip  MAGMAPEAK\n",
              "2  77261ab5  0848ef14a8dc6892  ...  Activity  MAGMAPEAK\n",
              "3  b2dba42b  0848ef14a8dc6892  ...  Activity  MAGMAPEAK\n",
              "4  1bb5fbdb  0848ef14a8dc6892  ...  Activity  MAGMAPEAK\n",
              "\n",
              "[5 rows x 11 columns]"
            ]
          },
          "metadata": {
            "tags": []
          },
          "execution_count": 47
        }
      ]
    },
    {
      "cell_type": "code",
      "metadata": {
        "id": "eoFWLuXAO7bN",
        "colab_type": "code",
        "outputId": "8861bf08-cd36-4a49-a34c-4c6a22d30260",
        "colab": {
          "base_uri": "https://localhost:8080/",
          "height": 487
        }
      },
      "source": [
        "data.tail()"
      ],
      "execution_count": 48,
      "outputs": [
        {
          "output_type": "execute_result",
          "data": {
            "text/html": [
              "<div>\n",
              "<style scoped>\n",
              "    .dataframe tbody tr th:only-of-type {\n",
              "        vertical-align: middle;\n",
              "    }\n",
              "\n",
              "    .dataframe tbody tr th {\n",
              "        vertical-align: top;\n",
              "    }\n",
              "\n",
              "    .dataframe thead th {\n",
              "        text-align: right;\n",
              "    }\n",
              "</style>\n",
              "<table border=\"1\" class=\"dataframe\">\n",
              "  <thead>\n",
              "    <tr style=\"text-align: right;\">\n",
              "      <th></th>\n",
              "      <th>event_id</th>\n",
              "      <th>game_session</th>\n",
              "      <th>timestamp</th>\n",
              "      <th>event_data</th>\n",
              "      <th>installation_id</th>\n",
              "      <th>event_count</th>\n",
              "      <th>event_code</th>\n",
              "      <th>game_time</th>\n",
              "      <th>title</th>\n",
              "      <th>type</th>\n",
              "      <th>world</th>\n",
              "    </tr>\n",
              "  </thead>\n",
              "  <tbody>\n",
              "    <tr>\n",
              "      <th>11341037</th>\n",
              "      <td>ab3136ba</td>\n",
              "      <td>c09b94eebfdf50a6</td>\n",
              "      <td>2019-10-10T15:11:15.584Z</td>\n",
              "      <td>{\"description\":\"Tap another dinosaur.\",\"identi...</td>\n",
              "      <td>fffc0583</td>\n",
              "      <td>66</td>\n",
              "      <td>3110</td>\n",
              "      <td>118615</td>\n",
              "      <td>Dino Dive</td>\n",
              "      <td>Game</td>\n",
              "      <td>MAGMAPEAK</td>\n",
              "    </tr>\n",
              "    <tr>\n",
              "      <th>11341038</th>\n",
              "      <td>27253bdc</td>\n",
              "      <td>6ad8ab25003ef1b0</td>\n",
              "      <td>2019-10-10T15:12:17.364Z</td>\n",
              "      <td>{\"event_code\": 2000, \"event_count\": 1}</td>\n",
              "      <td>fffc0583</td>\n",
              "      <td>1</td>\n",
              "      <td>2000</td>\n",
              "      <td>0</td>\n",
              "      <td>Crystal Caves - Level 2</td>\n",
              "      <td>Clip</td>\n",
              "      <td>CRYSTALCAVES</td>\n",
              "    </tr>\n",
              "    <tr>\n",
              "      <th>11341039</th>\n",
              "      <td>27253bdc</td>\n",
              "      <td>71904dca23b982c6</td>\n",
              "      <td>2019-10-10T15:13:04.713Z</td>\n",
              "      <td>{\"event_code\": 2000, \"event_count\": 1}</td>\n",
              "      <td>fffc0583</td>\n",
              "      <td>1</td>\n",
              "      <td>2000</td>\n",
              "      <td>0</td>\n",
              "      <td>Crystal Caves - Level 3</td>\n",
              "      <td>Clip</td>\n",
              "      <td>CRYSTALCAVES</td>\n",
              "    </tr>\n",
              "    <tr>\n",
              "      <th>11341040</th>\n",
              "      <td>27253bdc</td>\n",
              "      <td>2267b18f069e875a</td>\n",
              "      <td>2019-10-10T15:13:54.545Z</td>\n",
              "      <td>{\"event_code\": 2000, \"event_count\": 1}</td>\n",
              "      <td>fffc0583</td>\n",
              "      <td>1</td>\n",
              "      <td>2000</td>\n",
              "      <td>0</td>\n",
              "      <td>Crystal Caves - Level 3</td>\n",
              "      <td>Clip</td>\n",
              "      <td>CRYSTALCAVES</td>\n",
              "    </tr>\n",
              "    <tr>\n",
              "      <th>11341041</th>\n",
              "      <td>27253bdc</td>\n",
              "      <td>f31950f549d7c242</td>\n",
              "      <td>2019-10-10T15:15:12.483Z</td>\n",
              "      <td>{\"event_code\": 2000, \"event_count\": 1}</td>\n",
              "      <td>fffc0583</td>\n",
              "      <td>1</td>\n",
              "      <td>2000</td>\n",
              "      <td>0</td>\n",
              "      <td>Tree Top City - Level 2</td>\n",
              "      <td>Clip</td>\n",
              "      <td>TREETOPCITY</td>\n",
              "    </tr>\n",
              "  </tbody>\n",
              "</table>\n",
              "</div>"
            ],
            "text/plain": [
              "          event_id      game_session  ...  type         world\n",
              "11341037  ab3136ba  c09b94eebfdf50a6  ...  Game     MAGMAPEAK\n",
              "11341038  27253bdc  6ad8ab25003ef1b0  ...  Clip  CRYSTALCAVES\n",
              "11341039  27253bdc  71904dca23b982c6  ...  Clip  CRYSTALCAVES\n",
              "11341040  27253bdc  2267b18f069e875a  ...  Clip  CRYSTALCAVES\n",
              "11341041  27253bdc  f31950f549d7c242  ...  Clip   TREETOPCITY\n",
              "\n",
              "[5 rows x 11 columns]"
            ]
          },
          "metadata": {
            "tags": []
          },
          "execution_count": 48
        }
      ]
    },
    {
      "cell_type": "code",
      "metadata": {
        "id": "f5lLaBvzPk4T",
        "colab_type": "code",
        "outputId": "0e9fac14-62e8-47fb-ec68-4590bfb8e2f2",
        "colab": {
          "base_uri": "https://localhost:8080/",
          "height": 311
        }
      },
      "source": [
        "data.info()"
      ],
      "execution_count": 49,
      "outputs": [
        {
          "output_type": "stream",
          "text": [
            "<class 'pandas.core.frame.DataFrame'>\n",
            "RangeIndex: 11341042 entries, 0 to 11341041\n",
            "Data columns (total 11 columns):\n",
            "event_id           object\n",
            "game_session       object\n",
            "timestamp          object\n",
            "event_data         object\n",
            "installation_id    object\n",
            "event_count        int64\n",
            "event_code         int64\n",
            "game_time          int64\n",
            "title              object\n",
            "type               object\n",
            "world              object\n",
            "dtypes: int64(3), object(8)\n",
            "memory usage: 951.8+ MB\n"
          ],
          "name": "stdout"
        }
      ]
    },
    {
      "cell_type": "code",
      "metadata": {
        "id": "K8edlew2RKHG",
        "colab_type": "code",
        "outputId": "b6ff0b92-89a0-454a-a127-97d0f4be3685",
        "colab": {
          "base_uri": "https://localhost:8080/",
          "height": 35
        }
      },
      "source": [
        "data.shape"
      ],
      "execution_count": 50,
      "outputs": [
        {
          "output_type": "execute_result",
          "data": {
            "text/plain": [
              "(11341042, 11)"
            ]
          },
          "metadata": {
            "tags": []
          },
          "execution_count": 50
        }
      ]
    },
    {
      "cell_type": "code",
      "metadata": {
        "id": "MNF-EI1827pU",
        "colab_type": "code",
        "colab": {}
      },
      "source": [
        "import sqlite3 "
      ],
      "execution_count": 0,
      "outputs": []
    },
    {
      "cell_type": "code",
      "metadata": {
        "id": "qeSRPRln3Rei",
        "colab_type": "code",
        "colab": {}
      },
      "source": [
        ""
      ],
      "execution_count": 0,
      "outputs": []
    }
  ]
}